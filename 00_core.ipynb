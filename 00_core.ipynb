{
 "cells": [
  {
   "cell_type": "raw",
   "metadata": {},
   "source": [
    "---\n",
    "title: Matatena\n",
    "output-file: core.html\n",
    "description: \"Matatena (or Knucklebones in english) is a game played in the game *Cult of the lamb*. Here we provied a Python implementation of the game with the objective to be able to use it as a *gym* environment for reinforcement learning.\"\n",
    "---"
   ]
  },
  {
   "cell_type": "code",
   "execution_count": null,
   "metadata": {},
   "outputs": [],
   "source": [
    "#| default_exp core"
   ]
  },
  {
   "cell_type": "code",
   "execution_count": null,
   "metadata": {},
   "outputs": [
    {
     "name": "stdout",
     "output_type": "stream",
     "text": [
      "The autoreload extension is already loaded. To reload it, use:\n",
      "  %reload_ext autoreload\n"
     ]
    }
   ],
   "source": [
    "#| hide\n",
    "%load_ext autoreload\n",
    "%autoreload 2\n",
    "from nbdev.showdoc import *"
   ]
  },
  {
   "cell_type": "code",
   "execution_count": null,
   "metadata": {},
   "outputs": [],
   "source": [
    "#| export\n",
    "from collections import Counter\n",
    "from itertools import cycle\n",
    "\n",
    "import numpy as np\n",
    "from fastcore.basics import patch\n",
    "\n",
    "from matatena.exceptions import ColumnFullError"
   ]
  },
  {
   "cell_type": "markdown",
   "metadata": {},
   "source": [
    "# Basic rules\n",
    "\n",
    "Knucklebones is a simple game in which a dice is rolled and one of the two players must place it in their corresponding board. Each player can only choose the column in which the dice is placed, and if any dice is already placed in that column, the following is put behind. If there are more than one dice with the same number, their score is added and then multiplied by the number of times it appears. For example, if a column has two 6s, their values add up to 24, but if a column has a 6 and a 5, the total score would be 11.\n",
    "\n",
    "> The basic board is a 3x3 grid."
   ]
  },
  {
   "cell_type": "markdown",
   "metadata": {},
   "source": [
    "# Definition of the board\n",
    "\n",
    "Each game board (one for each player) can be represented, for example, with a `np.array`. But we may probably benefit from having a \"global\" object that controls both of the players to keep track of both boards and the score in a more simple manner."
   ]
  },
  {
   "cell_type": "code",
   "execution_count": null,
   "metadata": {},
   "outputs": [],
   "source": [
    "#| export\n",
    "\n",
    "class Game():\n",
    "    \"\"\"\n",
    "    Class that controls the whole game. It keeps track of both boards.\n",
    "    \"\"\"\n",
    "    def __init__(self,\n",
    "                 n_players=2, # Number of players.\n",
    "                 board_size=3, # Size of the board. It is a squared grid of `board_size`x`board_size`\n",
    "                 ):\n",
    "        self.n_players = n_players\n",
    "        self.board_size = board_size\n",
    "        self.boards = np.zeros(shape=(n_players, board_size, board_size))\n",
    "        self.current_player = self.choose_initial_player()\n",
    "        self._players = cycle(range(n_players))\n",
    "\n",
    "    def __repr__(self):\n",
    "        \"\"\"\n",
    "        Representation of the game state.\n",
    "        The current player is marked with an *.\n",
    "        \"\"\"\n",
    "        player0 = \"Player 1 *\" if self.current_player==0 else \"Player 1\"\n",
    "        player1= \"Player 2 *\" if self.current_player==1 else \"Player 2\"\n",
    "        \n",
    "        return \"\\n\".join([player0,\n",
    "                          str(self.boards[0]),\n",
    "                          player1,\n",
    "                          str(self.boards[1])])\n",
    "        \n",
    "    def choose_initial_player(self):\n",
    "        \"\"\"\n",
    "        The initial player is chosen at random at the beggining of the game.\n",
    "        \"\"\"\n",
    "        return np.random.choice([0,1])\n",
    "    \n",
    "    def _change_player(self):\n",
    "        \"\"\"\n",
    "        Changes the current player.\n",
    "        \"\"\"\n",
    "        # return next(self._players)\n",
    "        self.current_player = next(self._players)\n",
    "\n",
    "    def is_done(self):\n",
    "        \"\"\"\n",
    "        The game is considered finished when one of the boards is completed.\n",
    "        This can be checked by checking if there are any 0s left in a board.\n",
    "        \"\"\"\n",
    "        return (not (self.boards[0] == 0).any()) or (not (self.boards[1] == 0).any())\n",
    "\n",
    "    def add_dice(self,\n",
    "                 player, # Player to add the dice to.\n",
    "                 column, # Column where we want to place the dice.\n",
    "                 dice, # Dice to place.\n",
    "                 ):\n",
    "        \"\"\"\n",
    "        Adds a dice to the corresponding player in the specified column\n",
    "        and removes same dice from the opposite board if they are in the same column.\n",
    "        \"\"\"\n",
    "        board_column = self.boards[player][:,column]\n",
    "        idxs_dice = np.where(board_column==0)[0]\n",
    "        if len(idxs_dice)==0: raise ColumnFullError # Can't place dice in a full column.\n",
    "        board_column[idxs_dice[0]] = dice\n",
    "\n",
    "        ## Remove dice from the opponent's board\n",
    "        opposite_players_mask = np.arange(self.boards.shape[0]) != player\n",
    "        opposite_columns = self.boards[opposite_players_mask][:,column]\n",
    "        opposite_columns = self.boards[opposite_players_mask].squeeze()[:,column]\n",
    "        idxs = np.where(opposite_columns==dice)[0]\n",
    "        self.boards[opposite_players_mask,idxs,column] = 0\n",
    "        \n",
    "        return self.is_done()"
   ]
  },
  {
   "cell_type": "code",
   "execution_count": null,
   "metadata": {},
   "outputs": [
    {
     "data": {
      "text/plain": [
       "Player 1\n",
       "[[0. 0. 0.]\n",
       " [0. 0. 0.]\n",
       " [0. 0. 0.]]\n",
       "Player 2 *\n",
       "[[0. 0. 0.]\n",
       " [0. 0. 0.]\n",
       " [0. 0. 0.]]"
      ]
     },
     "execution_count": null,
     "metadata": {},
     "output_type": "execute_result"
    }
   ],
   "source": [
    "matatena = Game()\n",
    "assert not matatena.is_done()\n",
    "matatena"
   ]
  },
  {
   "cell_type": "code",
   "execution_count": null,
   "metadata": {},
   "outputs": [
    {
     "data": {
      "text/plain": [
       "Player 1 *\n",
       "[[0. 0. 0.]\n",
       " [0. 0. 0.]\n",
       " [0. 0. 0.]]\n",
       "Player 2\n",
       "[[1. 1. 1.]\n",
       " [1. 1. 1.]\n",
       " [1. 1. 1.]]"
      ]
     },
     "execution_count": null,
     "metadata": {},
     "output_type": "execute_result"
    }
   ],
   "source": [
    "matatena = Game()\n",
    "matatena.boards[1] = np.ones_like(matatena.boards[1])\n",
    "assert matatena.is_done()\n",
    "matatena"
   ]
  },
  {
   "cell_type": "code",
   "execution_count": null,
   "metadata": {},
   "outputs": [
    {
     "name": "stdout",
     "output_type": "stream",
     "text": [
      "Player 1 *\n",
      "[[6. 0. 0.]\n",
      " [0. 0. 0.]\n",
      " [0. 0. 0.]]\n",
      "Player 2\n",
      "[[0. 0. 0.]\n",
      " [0. 0. 0.]\n",
      " [0. 0. 0.]]\n",
      "Player 1 *\n",
      "[[6. 0. 0.]\n",
      " [6. 0. 0.]\n",
      " [0. 0. 0.]]\n",
      "Player 2\n",
      "[[0. 0. 0.]\n",
      " [0. 0. 0.]\n",
      " [0. 0. 0.]]\n"
     ]
    }
   ],
   "source": [
    "matatena = Game()\n",
    "matatena.add_dice(player=0, column=0, dice=6)\n",
    "print(matatena)\n",
    "matatena.add_dice(player=0, column=0, dice=6)\n",
    "print(matatena)"
   ]
  },
  {
   "cell_type": "code",
   "execution_count": null,
   "metadata": {},
   "outputs": [
    {
     "data": {
      "text/plain": [
       "False"
      ]
     },
     "execution_count": null,
     "metadata": {},
     "output_type": "execute_result"
    }
   ],
   "source": [
    "matatena = Game()\n",
    "matatena.add_dice(player=0, column=0, dice=6)\n",
    "matatena.add_dice(player=0, column=0, dice=6)\n",
    "matatena.add_dice(player=0, column=0, dice=6)\n",
    "# matatena.add_dice(player=0, column=0, dice=6)"
   ]
  },
  {
   "cell_type": "code",
   "execution_count": null,
   "metadata": {},
   "outputs": [
    {
     "name": "stdout",
     "output_type": "stream",
     "text": [
      "Player 1 *\n",
      "[[0. 0. 0.]\n",
      " [0. 0. 0.]\n",
      " [0. 0. 0.]]\n",
      "Player 2\n",
      "[[1. 1. 1.]\n",
      " [1. 1. 1.]\n",
      " [1. 1. 1.]]\n"
     ]
    },
    {
     "data": {
      "text/plain": [
       "Player 1 *\n",
       "[[1. 0. 0.]\n",
       " [0. 0. 0.]\n",
       " [0. 0. 0.]]\n",
       "Player 2\n",
       "[[0. 1. 1.]\n",
       " [0. 1. 1.]\n",
       " [0. 1. 1.]]"
      ]
     },
     "execution_count": null,
     "metadata": {},
     "output_type": "execute_result"
    }
   ],
   "source": [
    "matatena = Game()\n",
    "matatena.current_player = 0\n",
    "matatena.boards[1] = np.ones_like(matatena.boards[1])\n",
    "print(matatena)\n",
    "matatena.add_dice(player=0, column=0, dice=1)\n",
    "matatena"
   ]
  },
  {
   "cell_type": "markdown",
   "metadata": {},
   "source": [
    "## Calculating the score"
   ]
  },
  {
   "cell_type": "code",
   "execution_count": null,
   "metadata": {},
   "outputs": [],
   "source": [
    "#| export\n",
    "\n",
    "@patch\n",
    "def score(self: Game,\n",
    "          player, # Number of the player we want to calculate the score.\n",
    "          ):\n",
    "    \"\"\"\n",
    "    Returns the calculated score for a player. \n",
    "    If there are numbers repeated in a column, \n",
    "    their values must be added and multiplied by the number of repetitions. \n",
    "    Otherwise, they are added. If there are repreated and non-repeated in the same column, \n",
    "    the repeated are summed and multiplied by the number of repetitions and then the result is added to the non-repeated.\n",
    "    \"\"\"\n",
    "    total = 0\n",
    "    for col in self.boards[player].T: # Transposed to iterate over the columns\n",
    "        cntr = Counter(col)\n",
    "        sum_col = sum([n*reps*reps for n, reps in cntr.items()])\n",
    "        total += sum_col\n",
    "    return total"
   ]
  },
  {
   "cell_type": "code",
   "execution_count": null,
   "metadata": {},
   "outputs": [],
   "source": [
    "matatena = Game()\n",
    "matatena.boards[0] = np.array([[1,0,0],\n",
    "                               [1,2,3],\n",
    "                               [4,2,5]])\n",
    "assert matatena.score(0) == 8+8+8"
   ]
  },
  {
   "cell_type": "markdown",
   "metadata": {},
   "source": [
    "Now that we know how to calculate the score, we can `patch` the `__repr__` method of our class to show the score of each player as well:"
   ]
  },
  {
   "cell_type": "code",
   "execution_count": null,
   "metadata": {},
   "outputs": [],
   "source": [
    "#| export\n",
    "\n",
    "@patch\n",
    "def __repr__(self: Game):\n",
    "    \"\"\"\n",
    "    Representation of the game state.\n",
    "    The current player is marked with an *.\n",
    "    \"\"\"\n",
    "    player0 = f\"Player 1 ({self.score(0)})\"\n",
    "    player1 = f\"Player 2 ({self.score(1)})\"\n",
    "    player0 = f\"{player0} *\" if self.current_player==0 else player0\n",
    "    player1= f\"{player1} *\" if self.current_player==1 else player1\n",
    "    \n",
    "    return \"\\n\".join([player0,\n",
    "                      str(self.boards[0]),\n",
    "                      player1,\n",
    "                      str(self.boards[1])])"
   ]
  },
  {
   "cell_type": "code",
   "execution_count": null,
   "metadata": {},
   "outputs": [
    {
     "data": {
      "text/plain": [
       "Player 1 (0.0)\n",
       "[[0. 0. 0.]\n",
       " [0. 0. 0.]\n",
       " [0. 0. 0.]]\n",
       "Player 2 (0.0) *\n",
       "[[0. 0. 0.]\n",
       " [0. 0. 0.]\n",
       " [0. 0. 0.]]"
      ]
     },
     "execution_count": null,
     "metadata": {},
     "output_type": "execute_result"
    }
   ],
   "source": [
    "matatena = Game()\n",
    "assert not matatena.is_done()\n",
    "matatena"
   ]
  },
  {
   "cell_type": "code",
   "execution_count": null,
   "metadata": {},
   "outputs": [],
   "source": [
    "#| export\n",
    "\n",
    "@patch\n",
    "def _pad_player_board(self: Game,\n",
    "                      player: str, # Player __repr__\n",
    "                      board: str, # Board __repr__\n",
    "                      ):\n",
    "    \"\"\"\n",
    "    Pads the representation of a player indicator and a board\n",
    "    so that each line has the same characters.\n",
    "    \"\"\"\n",
    "    max_len = max(max(map(len, board.split(\"\\n\"))), len(player))\n",
    "    return \"\\n\".join(map(lambda x: x.ljust(max_len, \" \"), \"\\n\".join([player, board]).split(\"\\n\")))"
   ]
  },
  {
   "cell_type": "code",
   "execution_count": null,
   "metadata": {},
   "outputs": [],
   "source": [
    "#| export\n",
    "\n",
    "@patch\n",
    "def _join_players_boards(self: Game,\n",
    "                         playerboard1: str, # Padded playerboard obtained from `._pad_player_board()`.\n",
    "                         playerboard2: str, # Padded playerboard obtained from `._pad_player_board()`.\n",
    "                         separator: str = \" | \", # Character used as a separator.\n",
    "                         ):\n",
    "    \"\"\"\n",
    "    Join two padded player boards with a separator in between.\n",
    "    \"\"\"\n",
    "    n_lines = max(playerboard1.count(\"\\n\"), playerboard2.count(\"\\n\")) + 1 # Last line doesn't have \\n.\n",
    "    separator = \"\\n\".join([separator]*n_lines)\n",
    "\n",
    "    split_lines = zip(playerboard1.split(\"\\n\"), separator.split(\"\\n\"))\n",
    "    res = \"\\n\".join([s1 + s2 for s1, s2 in split_lines])\n",
    "    split_lines = zip(res.split(\"\\n\"), playerboard2.split(\"\\n\"))\n",
    "    res = \"\\n\".join([s1 + s2 for s1, s2 in split_lines])\n",
    "    return res"
   ]
  },
  {
   "cell_type": "code",
   "execution_count": null,
   "metadata": {},
   "outputs": [],
   "source": [
    "#| export\n",
    "\n",
    "@patch\n",
    "def __repr__(self: Game):\n",
    "    \"\"\"\n",
    "    Representation of the game state.\n",
    "    The current player is marked with an *.\n",
    "    \"\"\"\n",
    "    player0 = f\"Player 1 ({self.score(0)})\"\n",
    "    player1 = f\"Player 2 ({self.score(1)})\"\n",
    "    player0 = f\"{player0} *\" if self.current_player==0 else player0\n",
    "    player1= f\"{player1} *\" if self.current_player==1 else player1\n",
    "\n",
    "    board0 = str(self.boards[0])\n",
    "    board1 = str(self.boards[1])\n",
    "    \n",
    "    padded0 = self._pad_player_board(player0, board0)\n",
    "    padded1 = self._pad_player_board(player1, board1)\n",
    "    \n",
    "    return self._join_players_boards(padded0, padded1)"
   ]
  },
  {
   "cell_type": "code",
   "execution_count": null,
   "metadata": {},
   "outputs": [
    {
     "data": {
      "text/plain": [
       "Player 1 (0.0) * | Player 2 (0.0)\n",
       "[[0. 0. 0.]      | [[0. 0. 0.]   \n",
       " [0. 0. 0.]      |  [0. 0. 0.]   \n",
       " [0. 0. 0.]]     |  [0. 0. 0.]]  "
      ]
     },
     "execution_count": null,
     "metadata": {},
     "output_type": "execute_result"
    }
   ],
   "source": [
    "matatena = Game()\n",
    "matatena"
   ]
  },
  {
   "cell_type": "markdown",
   "metadata": {},
   "source": [
    "## Full turn\n",
    "\n",
    "A full turn in a Matatena game must follow the following steps:\n",
    "\n",
    "- Check the current player\n",
    "- Draw a random dice\n",
    "- Place the dice in a column\n",
    "    - Check if the column is not full -> The dice can be placed (If it can't be placed the game is ended)\n",
    "- Change the current player to the next one in the list\n",
    "- Repeat"
   ]
  },
  {
   "cell_type": "code",
   "execution_count": null,
   "metadata": {},
   "outputs": [],
   "source": [
    "#| export\n",
    "\n",
    "@patch\n",
    "def play_turn(self: Game):\n",
    "    \"\"\"\n",
    "    Plays a full turn.\n",
    "    \"\"\"\n",
    "    dice = np.random.choice(range(1,7))\n",
    "    print(f\"Dice to place: {dice}\")\n",
    "    print(self)\n",
    "    column = int(input(\"Select column: \"))\n",
    "    self.add_dice(player=self.current_player,\n",
    "                  column=column,\n",
    "                  dice=dice)\n",
    "    self._change_player()"
   ]
  },
  {
   "cell_type": "code",
   "execution_count": null,
   "metadata": {},
   "outputs": [
    {
     "name": "stdout",
     "output_type": "stream",
     "text": [
      "1\n",
      "Dice to place: 5\n",
      "Player 1 (0.0) | Player 2 (0.0) *\n",
      "[[0. 0. 0.]    | [[0. 0. 0.]     \n",
      " [0. 0. 0.]    |  [0. 0. 0.]     \n",
      " [0. 0. 0.]]   |  [0. 0. 0.]]    \n",
      "0\n"
     ]
    },
    {
     "data": {
      "text/plain": [
       "Player 1 (0.0) * | Player 2 (5.0)\n",
       "[[0. 0. 0.]      | [[5. 0. 0.]   \n",
       " [0. 0. 0.]      |  [0. 0. 0.]   \n",
       " [0. 0. 0.]]     |  [0. 0. 0.]]  "
      ]
     },
     "execution_count": null,
     "metadata": {},
     "output_type": "execute_result"
    }
   ],
   "source": [
    "#| notest\n",
    "matatena = Game()\n",
    "print(matatena.current_player)\n",
    "matatena.play_turn()\n",
    "# The player is asked for an input and the rolled dice is placed\n",
    "# in the chosen column.\n",
    "print(matatena.current_player)\n",
    "matatena"
   ]
  }
 ],
 "metadata": {
  "kernelspec": {
   "display_name": "Python 3.8.13 ('gpu')",
   "language": "python",
   "name": "python3"
  }
 },
 "nbformat": 4,
 "nbformat_minor": 4
}
