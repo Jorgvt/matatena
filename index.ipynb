{
 "cells": [
  {
   "cell_type": "code",
   "execution_count": null,
   "metadata": {},
   "outputs": [],
   "source": [
    "#| hide\n",
    "from matatena.core import *"
   ]
  },
  {
   "cell_type": "markdown",
   "metadata": {},
   "source": [
    "# matatena\n",
    "\n",
    "> \"Matatena (or Knucklebones in english) is a game played in the game *Cult of the lamb*. Here we provied a Python implementation of the game with the objective to be able to use it as a *gym* environment for reinforcement learning.\""
   ]
  },
  {
   "cell_type": "markdown",
   "metadata": {},
   "source": [
    "## Install"
   ]
  },
  {
   "cell_type": "markdown",
   "metadata": {},
   "source": [
    "```sh\n",
    "pip install {{lib_path}}\n",
    "```"
   ]
  }
 ],
 "metadata": {
  "kernelspec": {
   "display_name": "Python 3.8.13 ('gpu')",
   "language": "python",
   "name": "python3"
  },
  "language_info": {
   "name": "python",
   "version": "3.8.13"
  },
  "vscode": {
   "interpreter": {
    "hash": "cff0dde065af36cd4d642bf9a8fef2a53dd9d3cdc41d78beed47cb37a6fa76a1"
   }
  }
 },
 "nbformat": 4,
 "nbformat_minor": 4
}
